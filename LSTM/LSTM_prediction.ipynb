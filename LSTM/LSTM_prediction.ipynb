{
 "cells": [
  {
   "cell_type": "code",
   "execution_count": 1,
   "metadata": {
    "collapsed": false
   },
   "outputs": [
    {
     "name": "stderr",
     "output_type": "stream",
     "text": [
      "/usr/lib/python3.6/importlib/_bootstrap.py:219: RuntimeWarning: compiletime version 3.5 of module 'tensorflow.python.framework.fast_tensor_util' does not match runtime version 3.6\n",
      "  return f(*args, **kwds)\n"
     ]
    }
   ],
   "source": [
    "#Training, and then evaluation of model on train_2.csv dataset\n",
    "\n",
    "#NOTE: Warning generated for using TensorFlow 1.4 with Python3.6 should be ignored.\n",
    "#/Library/Frameworks/Python.framework/Versions/3.6/lib/python3.6/importlib/_bootstrap.py:205:\n",
    "# RuntimeWarning: compiletime version 3.5 of module 'tensorflow.python.framework.fast_tensor_util'\n",
    "#does not match runtime version 3.6  return f(*args, **kwds)\n",
    "\n",
    "from __future__ import print_function, division\n",
    "import os\n",
    "import os.path\n",
    "import numpy as np\n",
    "import sys, getopt\n",
    "import math\n",
    "import csv\n",
    "import pickle\n",
    "import datetime\n",
    "import time\n",
    "import tensorflow as tf\n",
    "from tensorflow.contrib import rnn\n",
    "\n",
    "import matplotlib.pyplot as plt\n",
    "from matplotlib import gridspec"
   ]
  },
  {
   "cell_type": "code",
   "execution_count": 2,
   "metadata": {
    "collapsed": true
   },
   "outputs": [],
   "source": [
    "############ Parameters to control run #############\n",
    "#Use CPU only or Nvidia GPU\n",
    "use_cpu_only = False\n",
    "\n",
    "#Use a fixed initial seed\n",
    "deterministic_init = True\n",
    "\n",
    "#Batch size\n",
    "BS = 1\n",
    "\n",
    "#Number of timesteps to look backwards - Back prop length\n",
    "BL = 20\n",
    "\n",
    "#Number of steps to look ahead\n",
    "#FL = 64\n",
    "\n",
    "\n",
    "#LSTM statesize\n",
    "stateSize = 20\n",
    "\n",
    "#Number of Epochs to Iterate over\n",
    "num_epochs = 10\n",
    "\n",
    "#Sequence Length\n",
    "M = 803\n",
    "\n",
    "#Validation set size - 64 days\n",
    "#(i.e., from 7/9/2017 to 9/10/2017 prediction)\n",
    "V = 64\n",
    "\n",
    "#Learning rate, decay factor\n",
    "lrate_initial = 2.0\n",
    "lrate_end = 2.0\n",
    "ldecay_rate = (lrate_initial - lrate_end)/num_epochs\n",
    "\n",
    "#Turn on/off animated display with learning\n",
    "display_on = True\n",
    "\n",
    "if use_cpu_only:\n",
    "    os.environ['CUDA_VISIBLE_DEVICES'] = ''\n",
    "\n",
    "if deterministic_init:   \n",
    "    tf.set_random_seed(1)\n"
   ]
  },
  {
   "cell_type": "code",
   "execution_count": 3,
   "metadata": {
    "collapsed": false
   },
   "outputs": [
    {
     "name": "stdout",
     "output_type": "stream",
     "text": [
      "Completed loading X, Y and key data  (145063, 803, 23) (145063, 803)\n"
     ]
    }
   ],
   "source": [
    "############ Load up saved data  #############\n",
    "#Load up X (23 features) and Y (expected ouput data)\n",
    "X = np.load(\"Data/Xdata.npy\")\n",
    "Y = np.load(\"Data/Ydata.npy\")\n",
    "\n",
    "with open(\"Data/index2Site.pkl\", 'rb') as f:\n",
    "    index2Site = pickle.load(f)\n",
    "with open(\"Data/column2Date.pkl\", 'rb') as f:\n",
    "    column2Date = pickle.load(f)\n",
    "print(\"Completed loading X, Y and key data \", X.shape, Y.shape)\n",
    "\n",
    "(nSites, nDates, nFeatures) = X.shape\n",
    "\n",
    "#Expect to train multiple sites at a time\n",
    "tstId = range(nSites)\n",
    "\n",
    "siteName = []\n",
    "\n",
    "for i in tstId:\n",
    "    siteName.append(index2Site[i])"
   ]
  },
  {
   "cell_type": "code",
   "execution_count": 4,
   "metadata": {
    "collapsed": true
   },
   "outputs": [],
   "source": [
    "#Create the LSTM network\n",
    "X_placeholder = tf.placeholder(tf.float64, [BS,BL*nFeatures]) \n",
    "Y_placeholder = tf.placeholder(tf.float64)\n",
    "lrate_placeholder = tf.placeholder(tf.float32, shape=[])\n",
    "\n",
    "cell_state = tf.placeholder(tf.float64, [BS, stateSize])\n",
    "hidden_state = tf.placeholder(tf.float64, [BS, stateSize])\n",
    "init_state = tf.nn.rnn_cell.LSTMStateTuple(cell_state, hidden_state)\n",
    "\n",
    "lstm = rnn.BasicLSTMCell(stateSize, state_is_tuple=True)\n",
    "\n",
    "output = []\n",
    "state = init_state\n",
    "for i in range(BL):\n",
    "    output, state = lstm(X_placeholder[0:BS,i*nFeatures:(i+1)*nFeatures], state)\n",
    "final_state = output\n",
    "\n",
    "num_classes = 1\n",
    "W = tf.Variable(np.ones((stateSize, num_classes),dtype=np.float64))\n",
    "b = tf.Variable(np.zeros((1,num_classes)), dtype=tf.float64)\n",
    "Ypred = [tf.matmul(final_state, W) + b]\n",
    "\n",
    "#Mean squared error between predicted and actual sequence\n",
    "loss = tf.reduce_sum(tf.pow(Ypred - Y_placeholder, 2.0))\n",
    "\n",
    "# Call optimizer\n",
    "learning_rate = lrate_initial\n",
    "optimizer = tf.train.AdagradOptimizer(learning_rate=lrate_placeholder).minimize(loss)"
   ]
  },
  {
   "cell_type": "code",
   "execution_count": 5,
   "metadata": {
    "collapsed": true
   },
   "outputs": [],
   "source": [
    "#Plotting Utilities\n",
    "def gplot2(loss_list, Yactual, Ypred, epoch, M, V):\n",
    "    gs = gridspec.GridSpec(10, 1)\n",
    "    segs = 20\n",
    "    enable_loss = True\n",
    "    if(enable_loss):\n",
    "        Xaxis = range(BL, len(loss_list)+BL, 1)\n",
    "        plt.ylabel(\"Loss Value\")\n",
    "        plt.plot(Xaxis, loss_list, label=\"Loss\")\n",
    "        plt.xticks(np.array(range(0,M+segs,M//segs)))\n",
    "\n",
    "    #plt.subplot(2, 1, 2)\n",
    "    plt.subplot(gs[1:,:])\n",
    "    plt.cla()\n",
    "    plt.title(\"Prediction for %s\" % (siteName[69113]))\n",
    "\n",
    "    Xaxis = range(BL, len(Yactual)+BL, 1)\n",
    "\n",
    "    actual = plt.plot(Xaxis, Yactual, label=\"Y\")\n",
    "    plt.xlabel(\"Timestep\")\n",
    "    plt.xticks(np.array(range(0,M+segs,M//segs)))\n",
    "    \n",
    "    if V == -1:\n",
    "        #Graphing of training stage\n",
    "        train, = plt.plot(Xaxis, Ypred, label=\"Ytrain\")\n",
    "        plt.ylabel(\"Y: Actual vs Train\")\n",
    "        plt.legend([actual, train], [\"Y\", \"Ytrain\"])\n",
    "        plt.xticks(np.array(range(0,M+segs,M//segs)))\n",
    "\n",
    "    else:\n",
    "        #Graphing of evaluation stage\n",
    "        test, = plt.plot(Xaxis[-V:-2], Ypred[-V:-2], label=\"Ytest\")\n",
    "        plt.xticks(np.array(range(0,M+segs,M//segs)))\n",
    "        plt.ylabel(\"Y: Actual vs Predicted\")\n",
    "    plt.draw()\n",
    "    plt.pause(0.00001)"
   ]
  },
  {
   "cell_type": "code",
   "execution_count": 6,
   "metadata": {
    "collapsed": true
   },
   "outputs": [],
   "source": [
    "#Log all results in a file with datename\n",
    "filename = datetime.datetime.now().strftime('%Y-%m-%d_%H:%M:%S')\n",
    "fp = open(filename, 'a')\n",
    "run_start = str(datetime.datetime.now())\n",
    "start_time = time.time()"
   ]
  },
  {
   "cell_type": "code",
   "execution_count": 7,
   "metadata": {
    "collapsed": false
   },
   "outputs": [
    {
     "name": "stdout",
     "output_type": "stream",
     "text": [
      "Processing Batch  range(69113, 69114)\n"
     ]
    },
    {
     "data": {
      "text/plain": [
       "<matplotlib.figure.Figure at 0x7f7f2d393518>"
      ]
     },
     "metadata": {},
     "output_type": "display_data"
    },
    {
     "name": "stdout",
     "output_type": "stream",
     "text": [
      "Training ...\n",
      "Train time per Epoch = 4.399e+00 secs\n",
      "..........Training Done\n",
      "Evaluation on test data\n",
      "Evaluation time = 2.015e-01 secs\n"
     ]
    },
    {
     "data": {
      "image/png": "[encoded data removed]",
      "text/plain": [
       "<matplotlib.figure.Figure at 0x7f7f2d393c88>"
      ]
     },
     "metadata": {},
     "output_type": "display_data"
    }
   ],
   "source": [
    "#Demo with specific timeseries\n",
    "startId = 69113\n",
    "endId = 69114\n",
    "BS = 1\n",
    "\n",
    "fp.write(\"#Run started at %s\\n\" % run_start)\n",
    "fp.write(\"#BS = %d BL = %s Statesize=%d TS_start=%d TS_end=%d\\n\" % (BS, BL, stateSize, startId, endId))\n",
    "\n",
    "#Main Train/Predict Loop\n",
    "for i in range(startId, endId, BS):\n",
    "    tstId = range(i,i+BS,1)\n",
    "    print(\"Processing Batch \", tstId)\n",
    "    fp.write(\"#Processing Batch \\n\"+str(tstId))\n",
    "\n",
    "    _current_cell_state = np.zeros((BS,stateSize),dtype=np.float64)\n",
    "    _current_hidden_state = np.zeros((BS,stateSize),dtype=np.float64)\n",
    "    _current_state = _current_cell_state, _current_hidden_state\n",
    "    \n",
    "    with tf.Session() as sess:\n",
    "        sess.run(tf.global_variables_initializer())\n",
    "        if display_on:\n",
    "            plt.ion()\n",
    "            plt.figure(figsize=(10, 6))\n",
    "            plt.show()\n",
    "            \n",
    "        loss_list = []\n",
    "    \n",
    "        print(\"Training ...\")\n",
    "\n",
    "        learning_rate = lrate_initial\n",
    "        for e in range(num_epochs):\n",
    "\n",
    "            F1 = Y[tstId,BL:(M-V)]\n",
    "            F2 = []\n",
    "            loss_list = []\n",
    "            t1 = time.time()\n",
    "            for i in range(M-V-BL):\n",
    "                Lstm_in = np.zeros((BS,BL*nFeatures))\n",
    "                for k in tstId:\n",
    "                    Lstm_in[k-tstId[0]] = X[k,i:(i+BL)].flatten()\n",
    "                Lstm_out = Y[tstId,i+BL]\n",
    "    \n",
    "                _loss, _optimizer, _final_state, _current_state, _output, _Ypred = sess.run(\n",
    "                    fetches=[loss, optimizer, final_state, state, output, Ypred],\n",
    "                    feed_dict={\n",
    "                        X_placeholder: Lstm_in,\n",
    "                        Y_placeholder: Lstm_out,\n",
    "                        cell_state: _current_cell_state,\n",
    "                        hidden_state: _current_hidden_state,\n",
    "                        lrate_placeholder: learning_rate\n",
    "                    })\n",
    "                _current_cell_state, _current_hidden_state = _current_state\n",
    "                loss_list.append(_loss)\n",
    "                F2.append(float(_Ypred[0][0]))\n",
    "\n",
    "            #Decrement learning rate for next epoch\n",
    "            learning_rate -= ldecay_rate\n",
    "\n",
    "            display_on_train = False\n",
    "            if display_on_train:\n",
    "                gplot2(loss_list, F1[0], F2, e, M, -1)\n",
    "            t2 = time.time()\n",
    "            if(e==0):\n",
    "                print(\"Train time per Epoch = %0.3e secs\" % (t2-t1))\n",
    "                fp.write(\"#Train time per Epoch = %0.3e secs\\n\" % (t2-t1))\n",
    "            print('.', end='', flush=True)\n",
    "\n",
    "        #Compute loss outliers - approx BL entries\n",
    "        totalLoss = sum(loss_list)\n",
    "        arrLossList = np.array(loss_list)\n",
    "        arrLossArgs = np.argsort(arrLossList)\n",
    "        nonOutlierTotalLoss = sum(arrLossList[arrLossArgs[:-BL]])\n",
    "        print(\"Training Done\")\n",
    "    \n",
    "        print(\"Evaluation on test data\")\n",
    "        good_state = _current_state\n",
    "        \n",
    "        F1 = Y[tstId, BL:]\n",
    "        F3 = np.zeros((BS,V),dtype=np.float64)\n",
    "\n",
    "        t1 = time.time()\n",
    "        for i in range(M-V-BL,M-BL,1):\n",
    "            Lstm_in = np.zeros((BS,BL*nFeatures))\n",
    "            for k in tstId:\n",
    "                Lstm_in[k-tstId[0]] = X[k,i:(i+BL)].flatten()\n",
    "            Lstm_out = Y[tstId,i+BL]\n",
    "            _final_state, _current_state, _Ypred = sess.run(\n",
    "                fetches=[final_state, state, Ypred],\n",
    "                feed_dict={\n",
    "                    X_placeholder: Lstm_in,\n",
    "                    Y_placeholder: Lstm_out,\n",
    "                    cell_state: _current_cell_state,\n",
    "                    hidden_state: _current_hidden_state,\n",
    "                    lrate_placeholder: learning_rate\n",
    "                })\n",
    "            _current_cell_state, _current_hidden_state = _current_state\n",
    "            F2.append(float(_Ypred[0][0]))\n",
    "            F3[:,(i-(M-V-BL)):(i-(M-V-BL)+1)] = _Ypred[0]\n",
    "\n",
    "        t2 = time.time()\n",
    "        print(\"Evaluation time = %0.3e secs\" % (t2-t1))\n",
    "        fp.write(\"#Evaluation time = %0.3e secs\\n\" % (t2-t1))\n",
    "\n",
    "        if display_on:\n",
    "            gplot2(loss_list, F1[0], F2, e, M, V)\n"
   ]
  },
  {
   "cell_type": "code",
   "execution_count": 8,
   "metadata": {
    "collapsed": false
   },
   "outputs": [
    {
     "name": "stdout",
     "output_type": "stream",
     "text": [
      "Run ended at 2017-12-15 22:53:29.883883\n",
      "Total runtime = 5.8075e+01\n"
     ]
    }
   ],
   "source": [
    "#Cleanup and Close\n",
    "run_end = str(datetime.datetime.now())\n",
    "end_time = time.time()\n",
    "\n",
    "fp.write(\"#Run ended at %s\\n\" % run_end)\n",
    "fp.write(\"#Total runtime = %0.4e\\n\" % (end_time - start_time))\n",
    "print(\"Run ended at %s\" % run_end)\n",
    "print(\"Total runtime = %0.4e\" % (end_time - start_time))\n",
    "\n",
    "            \n",
    "fp.close()\n",
    "if display_on:\n",
    "    plt.ioff()\n",
    "    plt.show()\n"
   ]
  },
  {
   "cell_type": "code",
   "execution_count": null,
   "metadata": {
    "collapsed": true
   },
   "outputs": [],
   "source": []
  }
 ],
 "metadata": {
  "kernelspec": {
   "display_name": "Python 3",
   "language": "python",
   "name": "python3"
  },
  "language_info": {
   "codemirror_mode": {
    "name": "ipython",
    "version": 3
   },
   "file_extension": ".py",
   "mimetype": "text/x-python",
   "name": "python",
   "nbconvert_exporter": "python",
   "pygments_lexer": "ipython3",
   "version": "3.6.3"
  }
 },
 "nbformat": 4,
 "nbformat_minor": 2
}
